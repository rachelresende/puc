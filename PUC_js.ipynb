{
  "nbformat": 4,
  "nbformat_minor": 0,
  "metadata": {
    "colab": {
      "provenance": [],
      "authorship_tag": "ABX9TyM+Xlr0F53IlM6ktZQZehhS",
      "include_colab_link": true
    },
    "kernelspec": {
      "name": "python3",
      "display_name": "Python 3"
    },
    "language_info": {
      "name": "python"
    }
  },
  "cells": [
    {
      "cell_type": "markdown",
      "metadata": {
        "id": "view-in-github",
        "colab_type": "text"
      },
      "source": [
        "<a href=\"https://colab.research.google.com/github/rachelresende/puc/blob/main/PUC_js.ipynb\" target=\"_parent\"><img src=\"https://colab.research.google.com/assets/colab-badge.svg\" alt=\"Open In Colab\"/></a>"
      ]
    },
    {
      "cell_type": "code",
      "execution_count": null,
      "metadata": {
        "id": "B4l57ECRqx1F"
      },
      "outputs": [],
      "source": [
        "<!-- preparando o ambiente -->\n",
        "<!DOCTYPE html>\n",
        "<html>\n",
        "<body>\n",
        "<h1>JavaScript Maps</h1>\n",
        "<h2>The set() Method</h2>\n",
        "\n",
        "<!-- identificando o ambiente -->\n",
        "<p id=\"demo\"></p>\n",
        "\n",
        "<script>\n",
        "\n",
        "## criando um mapa\n",
        "var novomapa = new Map ()\n",
        "\n",
        "## organizando o map\n",
        "celulares.set(\"iphone\", 10);\n",
        "celulares.set(\"iphone2\", 13);\n",
        "celulares.set(\"iphone3\", 15);\n",
        "\n",
        "## consultando o map\n",
        "var num = celulares.get(\"iphone\")\n",
        "console.log(num)\n",
        "</script>\n",
        "</body>"
      ]
    }
  ]
}